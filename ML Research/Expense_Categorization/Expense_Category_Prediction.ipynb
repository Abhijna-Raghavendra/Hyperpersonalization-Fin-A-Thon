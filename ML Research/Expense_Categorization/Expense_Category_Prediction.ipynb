{
  "cells": [
    {
      "cell_type": "code",
      "execution_count": 10,
      "metadata": {
        "colab": {
          "base_uri": "https://localhost:8080/"
        },
        "id": "NXAyaXeF633r",
        "outputId": "8931c757-42ec-4c7d-907f-f128c8ec8332"
      },
      "outputs": [
        {
          "name": "stdout",
          "output_type": "stream",
          "text": [
            "Text: Rasoi\n",
            "Predicted Category: Dining\n",
            "\n",
            "Text: Fuel\n",
            "Predicted Category: Transport\n",
            "\n"
          ]
        }
      ],
      "source": [
        "import joblib\n",
        "from sklearn.feature_extraction.text import TfidfVectorizer  # Import TfidfVectorizer\n",
        "\n",
        "# Define the path to the saved model file\n",
        "model_filename = 'text_classifier_model.pkl'  # Replace with the path to your model file\n",
        "\n",
        "# Load the saved model\n",
        "loaded_classifier = joblib.load(model_filename)\n",
        "\n",
        "# Define the path to the saved vectorizer data\n",
        "vectorizer_filename = 'tfidf_vectorizer_data.pkl'  # Replace with the path to your vectorizer data file\n",
        "\n",
        "# Load the saved vectorizer data\n",
        "vectorizer_data = joblib.load(vectorizer_filename)\n",
        "loaded_tfidf_vectorizer = TfidfVectorizer(sublinear_tf=True, token_pattern=r'(?u)\\b\\w+\\b', lowercase=True, use_idf=True, smooth_idf=True, norm='l2', max_features=1000, stop_words='english', vocabulary=vectorizer_data['vocabulary'], binary=False, dtype=float)\n",
        "loaded_tfidf_vectorizer.idf_ = vectorizer_data['idf']\n",
        "\n",
        "# New data to classify (adjust this as needed)\n",
        "new_data = [\n",
        "    \"Rasoi\",\n",
        "    \"Fuel\",\n",
        "    # Add more new data here\n",
        "]\n",
        "\n",
        "# Preprocess the new data (split full names and last names)\n",
        "new_full_names = new_data  # Assuming new_data contains valid text entries\n",
        "new_last_names = []\n",
        "\n",
        "# Vectorize the new data using the loaded TF-IDF vectorizer\n",
        "new_data_tfidf = loaded_tfidf_vectorizer.transform(new_full_names)\n",
        "\n",
        "# Make predictions on the new data\n",
        "predictions = loaded_classifier.predict(new_data_tfidf)\n",
        "\n",
        "# Display the predictions\n",
        "for text, prediction in zip(new_data, predictions):\n",
        "    print(f\"Text: {text}\")\n",
        "    print(f\"Predicted Category: {prediction}\\n\")\n"
      ]
    },
    {
      "cell_type": "code",
      "execution_count": null,
      "metadata": {
        "id": "EGCzXRAd8BuW"
      },
      "outputs": [],
      "source": []
    }
  ],
  "metadata": {
    "colab": {
      "provenance": []
    },
    "kernelspec": {
      "display_name": "Python 3",
      "name": "python3"
    },
    "language_info": {
      "name": "python"
    }
  },
  "nbformat": 4,
  "nbformat_minor": 0
}
