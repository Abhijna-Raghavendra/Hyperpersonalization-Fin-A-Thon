{
  "nbformat": 4,
  "nbformat_minor": 0,
  "metadata": {
    "colab": {
      "provenance": []
    },
    "kernelspec": {
      "name": "python3",
      "display_name": "Python 3"
    },
    "language_info": {
      "name": "python"
    }
  },
  "cells": [
    {
      "cell_type": "code",
      "execution_count": 13,
      "metadata": {
        "colab": {
          "base_uri": "https://localhost:8080/"
        },
        "id": "XefKRkdQm0WS",
        "outputId": "3225321a-db63-4446-febd-532a3a792f76"
      },
      "outputs": [
        {
          "output_type": "stream",
          "name": "stdout",
          "text": [
            "Good Work! You have been doing your payments on time. Keep it up!\n",
            "No worries! You may have performed a recent inquiry.\n",
            "You may need to be careful with your EMI payments.\n"
          ]
        },
        {
          "output_type": "stream",
          "name": "stderr",
          "text": [
            "/usr/local/lib/python3.10/dist-packages/sklearn/base.py:439: UserWarning: X does not have valid feature names, but RandomForestClassifier was fitted with feature names\n",
            "  warnings.warn(\n",
            "/usr/local/lib/python3.10/dist-packages/sklearn/base.py:439: UserWarning: X does not have valid feature names, but RandomForestClassifier was fitted with feature names\n",
            "  warnings.warn(\n"
          ]
        }
      ],
      "source": [
        "import joblib\n",
        "from sklearn.ensemble import RandomForestClassifier\n",
        "from sklearn.preprocessing import MultiLabelBinarizer\n",
        "import numpy as np\n",
        "# Load the saved model from a file\n",
        "loaded_model = joblib.load('credit_score_model.joblib')\n",
        "loaded_mlb = joblib.load('multi_label_binarizer.joblib')\n",
        "# Input a \"change\" value to get the corresponding categories using the loaded model\n",
        "input_change =[10,-16]  # Replace with the desired \"change\" value\n",
        "for i in input_change:\n",
        "  predicted_labels = loaded_model.predict(np.array([[i]]))\n",
        "\n",
        "  # Transform the predicted binary labels back to categories\n",
        "  predicted_categories = loaded_mlb.inverse_transform(predicted_labels)\n",
        "\n",
        "  for category_tuple in predicted_categories:\n",
        "    for category in category_tuple:\n",
        "      if category == 'A':\n",
        "          print(\"Good Work! You have been doing your payments on time. Keep it up!\")\n",
        "      if category == 'B':\n",
        "          print(\"Get a credit account and pay on time to boost your credit score.\")\n",
        "      if category == 'C':\n",
        "          print(\"No worries! You may have performed a recent inquiry.\")\n",
        "      if category == 'D':\n",
        "          print(\"You may need to be careful with your EMI payments.\")\n",
        "      if category == 'E':\n",
        "          print(\"The drop may have been caused due to a loan settlement.\")\n"
      ]
    },
    {
      "cell_type": "code",
      "source": [],
      "metadata": {
        "id": "ztLTrx_znJpV"
      },
      "execution_count": null,
      "outputs": []
    }
  ]
}