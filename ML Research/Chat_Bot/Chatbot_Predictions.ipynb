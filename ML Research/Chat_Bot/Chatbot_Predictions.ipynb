{
  "nbformat": 4,
  "nbformat_minor": 0,
  "metadata": {
    "colab": {
      "provenance": []
    },
    "kernelspec": {
      "name": "python3",
      "display_name": "Python 3"
    },
    "language_info": {
      "name": "python"
    }
  },
  "cells": [
    {
      "cell_type": "code",
      "execution_count": 3,
      "metadata": {
        "colab": {
          "base_uri": "https://localhost:8080/"
        },
        "id": "zpTX1bjtADY9",
        "outputId": "aeb00d8c-3f3f-4aa7-b769-e1c84db08781"
      },
      "outputs": [
        {
          "output_type": "stream",
          "name": "stdout",
          "text": [
            "Accuracy:  0.8571428571428571\n"
          ]
        },
        {
          "output_type": "execute_result",
          "data": {
            "text/plain": [
              "['tfidf_vectorizer.pkl']"
            ]
          },
          "metadata": {},
          "execution_count": 3
        }
      ],
      "source": [
        "# import pandas as pd\n",
        "# from sklearn.feature_extraction.text import TfidfVectorizer\n",
        "# from sklearn.svm import SVC\n",
        "# from sklearn.model_selection import train_test_split\n",
        "# from sklearn.metrics import accuracy_score\n",
        "# import joblib  # Add this import for saving models\n",
        "\n",
        "# # Load data from the CSV file\n",
        "# data = pd.read_csv(\"index.csv\")\n",
        "\n",
        "# # Extract sentences and labels from the DataFrame\n",
        "# sentences = data['Sentence'].values\n",
        "# labels = data['Label'].values\n",
        "\n",
        "# # Convert sentences to TF-IDF features\n",
        "# tfidf_vectorizer = TfidfVectorizer()\n",
        "# X = tfidf_vectorizer.fit_transform(sentences)\n",
        "\n",
        "# # Split data into training and test sets\n",
        "# X_train, X_test, y_train, y_test = train_test_split(X, labels, test_size=0.2, random_state=42)\n",
        "\n",
        "# # Train an SVM classifier\n",
        "# classifier = SVC(kernel='linear')  # You can also try other kernels like 'rbf'\n",
        "# classifier.fit(X_train, y_train)\n",
        "\n",
        "# # Make predictions on the test set\n",
        "# predictions = classifier.predict(X_test)\n",
        "\n",
        "# # Evaluate the model\n",
        "# accuracy = accuracy_score(y_test, predictions)\n",
        "# print(\"Accuracy: \", accuracy)\n",
        "\n",
        "# # Save the trained classifier and TF-IDF vectorizer\n",
        "# joblib.dump(classifier, 'svm_classifier_model.pkl')\n",
        "# joblib.dump(tfidf_vectorizer, 'tfidf_vectorizer.pkl')\n"
      ]
    },
    {
      "cell_type": "code",
      "source": [
        "# Load the trained classifier and TF-IDF vectorizer\n",
        "import joblib\n",
        "\n",
        "# Load the classifier\n",
        "classifier = joblib.load('svm_classifier_model.pkl')\n",
        "\n",
        "# Load the TF-IDF vectorizer\n",
        "tfidf_vectorizer = joblib.load('tfidf_vectorizer.pkl')\n",
        "\n",
        "# Input sentence for prediction\n",
        "new_sentence = [\"Savings info\"]\n",
        "\n",
        "# Convert the new sentence to TF-IDF features using the same vectorizer\n",
        "new_sentence_features = tfidf_vectorizer.transform(new_sentence)\n",
        "\n",
        "# Make predictions\n",
        "predicted_class = classifier.predict(new_sentence_features)\n",
        "\n",
        "# Print the predicted class\n",
        "print(\"Predicted Class:\", predicted_class[0])\n"
      ],
      "metadata": {
        "colab": {
          "base_uri": "https://localhost:8080/"
        },
        "id": "oXVr__IyAzuT",
        "outputId": "9a37e6c1-1fb9-47a4-a70c-7f76badc3920"
      },
      "execution_count": 7,
      "outputs": [
        {
          "output_type": "stream",
          "name": "stdout",
          "text": [
            "Predicted Class: 5\n"
          ]
        }
      ]
    },
    {
      "cell_type": "code",
      "source": [],
      "metadata": {
        "id": "1ynKvxZCBOTh"
      },
      "execution_count": null,
      "outputs": []
    }
  ]
}